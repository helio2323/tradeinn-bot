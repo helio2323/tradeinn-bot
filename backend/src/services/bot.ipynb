{
 "cells": [
  {
   "cell_type": "code",
   "execution_count": 1,
   "metadata": {},
   "outputs": [],
   "source": [
    "from selenium import webdriver\n",
    "from selenium.webdriver.chrome.options import Options\n",
    "from selenium.webdriver.common.keys import Keys\n",
    "from selenium.webdriver.common.action_chains import ActionChains\n",
    "from selenium.webdriver.common.by import By\n",
    "from selenium.webdriver.support.ui import WebDriverWait\n",
    "from selenium.webdriver.support import expected_conditions as EC\n",
    "from selenium.common.exceptions import NoSuchElementException\n",
    "from selenium.common.exceptions import TimeoutException\n",
    "from selenium.common.exceptions import StaleElementReferenceException\n",
    "from selenium.common.exceptions import WebDriverException\n",
    "from selenium.webdriver.support.ui import Select\n",
    "\n",
    "import pandas as pd\n",
    "from bs4 import BeautifulSoup\n",
    "import requests\n",
    "\n",
    "class Navegador:\n",
    "    def __init__(self):\n",
    "        # Configurar opções do Chrome\n",
    "        options = Options()\n",
    "        options.add_argument(\"--enable-automation\")\n",
    "        options.add_argument(\"--start-maximized\")\n",
    "        options.add_argument(\"--disable-notifications\")\n",
    "        options.add_argument(\"--disable-popup-blocking\")\n",
    "        options.add_argument(\"--kiosk-printing\")\n",
    "\n",
    "\n",
    "        # Inicializar o WebDriver do Chrome com as opções configuradas\n",
    "        #self.driver = webdriver.Remote(command_executor=\"http://localhost:4444/wd/hub\", options=options)\n",
    "        self.driver = webdriver.Chrome(options=options)\n",
    "        self.wait = WebDriverWait(self.driver, 10)\n",
    "        self.by = By\n",
    "        self.locator = {\n",
    "            \"XPATH\": By.XPATH,\n",
    "            \"ID\": By.ID,\n",
    "            \"CLASS_NAME\": By.CLASS_NAME,\n",
    "            \"LINK_TEXT\": By.LINK_TEXT,\n",
    "            \"NAME\": By.NAME,\n",
    "            \"PARTIAL_LINK_TEXT\": By.PARTIAL_LINK_TEXT,\n",
    "            \"TAG_NAME\": By.TAG_NAME\n",
    "        }\n",
    "\n",
    "    def get_session_id (self):\n",
    "        return self.driver.session_id\n",
    "\n",
    "    def disable_alert(self):\n",
    "        self.driver.switch_to.alert.dismiss()\n",
    "\n",
    "    def element_get_text(self, element, tag):\n",
    "        if element in self.locator:\n",
    "            try:\n",
    "                # Aguardar até que o elemento seja visível e, em seguida, retornar seu texto\n",
    "                element_text = self.wait.until(EC.visibility_of_element_located((self.locator[element], tag)))\n",
    "                return element_text\n",
    "            except TimeoutException:\n",
    "                print(\"Elemento não encontrado\")   \n",
    "                  \n",
    "    def get_elements(self, element, tag):\n",
    "        if element in self.locator:\n",
    "            try:\n",
    "                # Aguardar até que o elemento seja visível e, em seguida, retornar seu texto\n",
    "                elements = self.wait.until(EC.visibility_of_all_elements_located((self.locator[element], tag)))\n",
    "                return elements\n",
    "            except TimeoutException:\n",
    "                print(\"Elemento não encontrado\")\n",
    "\n",
    "    def get(self, url):\n",
    "        # await asyncio.sleep(0)\n",
    "        self.driver.get(url)\n",
    "    def close(self):\n",
    "    #  await asyncio.sleep(0)\n",
    "        self.driver.quit()   \n",
    "\n",
    "    def close_session(self, session_id):\n",
    "        grid_url = \"https://grid.consium.com.br/wd/hub\"\n",
    "        session_url = f\"{grid_url}/session/{session_id}\"\n",
    "        response = requests.delete(session_url)\n",
    "        if response.status_code == 200:\n",
    "            print(\"Sessão fechada com sucesso!\")\n",
    "        else:\n",
    "            print(\"Falha ao fechar a sessão.\")\n",
    "\n",
    "        return response    \n",
    "    # Funcao para digitar no elemento           \n",
    "    def sendkeys(self, element, tag, keys):\n",
    "    #  await asyncio.sleep(0)\n",
    "        if element in self.locator:\n",
    "            try:\n",
    "                self.wait.until(EC.presence_of_element_located((self.locator[element], tag))).send_keys(keys)\n",
    "            except TimeoutException:\n",
    "                print(\"Elemento não encontrado\")\n",
    "                \n",
    "    # Funcao para clicar no elemento                \n",
    "    def click(self, element, tag):\n",
    "    #  await asyncio.sleep(0)\n",
    "        if element in self.locator:\n",
    "            try:\n",
    "                self.wait.until(EC.visibility_of_element_located((self.locator[element], tag))).click()\n",
    "            except TimeoutException:    \n",
    "                print(\"Elemento não encontrado\")\n",
    "\n",
    "\n",
    "    def get_table_element(self, element, tag):\n",
    "        try:\n",
    "            # Obter o conteúdo HTML da tag <tbody>\n",
    "            html_content = self.wait.until(EC.visibility_of_element_located((self.locator[element], tag))).get_attribute('innerHTML')\n",
    "            # Extrair dados da tabela e transforma em dataframe\n",
    "            data = self.table_to_dataframe(html_content)\n",
    "            qtd_linhas = len(data)\n",
    "            return data, qtd_linhas\n",
    "        except TimeoutException:\n",
    "            print(\"Elemento não encontrado\")\n",
    "\n",
    "    def table_to_dataframe(self, html_content):\n",
    "\n",
    "        soup = BeautifulSoup(html_content, 'html.parser')\n",
    "\n",
    "        # Encontra a tabela desejada (selecionando-a pela classe, id ou outras características)\n",
    "        table = soup.find('table')\n",
    "\n",
    "        # Verifica se a tabela foi encontrada\n",
    "        if table:\n",
    "            # Inicializa uma lista para armazenar os dados da tabela\n",
    "            table_data = []\n",
    "            # Itera sobre as linhas da tabela (<tr>)\n",
    "            for row in table.find_all('tr'):\n",
    "                # Inicializa uma lista para armazenar os dados de uma linha\n",
    "                row_data = []\n",
    "                # Itera sobre as células da linha (<td>)\n",
    "                for cell in row.find_all(['td']):\n",
    "                    # Adiciona o texto da célula à lista de dados da linha\n",
    "                    value = cell.text.strip()\n",
    "                    # Verifica se o valor não está vazio\n",
    "                    if value:\n",
    "                        row_data.append(value)\n",
    "                    else:\n",
    "                        row_data.append(None)\n",
    "                    # Verifica se a célula contém uma tag de âncora (hiperlink)\n",
    "                    link = cell.find('a')\n",
    "                    if link:\n",
    "                        # Se houver uma tag de âncora, adiciona o link (href) à lista de dados da linha\n",
    "                        row_data.append(link.get('href'))\n",
    "                    else:\n",
    "                        row_data.append(None)\n",
    "                # Adiciona os dados da linha à lista de dados da tabela\n",
    "                if row_data:\n",
    "                    table_data.append(row_data)\n",
    "\n",
    "            # Imprime os dados da tabela\n",
    "            \n",
    "            df = pd.DataFrame(table_data)\n",
    "            df.to_excel('arquivo.xlsx', index=False)\n",
    "\n",
    "            return df \n",
    "        \n",
    "\n",
    "                   "
   ]
  },
  {
   "cell_type": "code",
   "execution_count": 9,
   "metadata": {},
   "outputs": [],
   "source": [
    "import sqlite3\n",
    "import os\n",
    "\n",
    "class Sqclass:\n",
    "    def __init__(self):\n",
    "        db_path = '../database/database.db'\n",
    "        self.conn = sqlite3.connect(db_path)\n",
    "        self.cursor = self.conn.cursor()\n",
    "        self.create_table_lists()\n",
    "        self.create_table_products()\n",
    "        self.create_table_products_infos()\n",
    "        \n",
    "    def close(self):\n",
    "        self.conn.close()\n",
    "    \n",
    "    def create_table_lists(self):\n",
    "        self.cursor.execute(\"\"\" \n",
    "                            CREATE TABLE IF NOT EXISTS product_list (\n",
    "                                id INTEGER PRIMARY KEY AUTOINCREMENT,\n",
    "                                name TEXT,\n",
    "                                url TEXT\n",
    "                            )\n",
    "                            \"\"\")\n",
    "        self.conn.commit()\n",
    "    \n",
    "    def create_table_products(self):\n",
    "        self.cursor.execute(\"\"\" \n",
    "                            CREATE TABLE IF NOT EXISTS products (\n",
    "                                id INTEGER PRIMARY KEY AUTOINCREMENT,\n",
    "                                title TEXT,\n",
    "                                photo_src TEXT,\n",
    "                                product_site_id TEXT,\n",
    "                                id_list INTEGER,\n",
    "                                image BLOB,\n",
    "                                FOREIGN KEY(id_list) REFERENCES product_list(id)\n",
    "                            )\n",
    "                            \"\"\")\n",
    "        self.conn.commit()\n",
    "    \n",
    "    def create_table_products_infos(self):\n",
    "        self.cursor.execute(\"\"\" \n",
    "                            CREATE TABLE IF NOT EXISTS products_infos (\n",
    "                                id INTEGER PRIMARY KEY AUTOINCREMENT,\n",
    "                                site_option_id TEXT,\n",
    "                                size TEXT,\n",
    "                                price_web REAL,\n",
    "                                price_b2b REAL,\n",
    "                                id_product INTEGER,\n",
    "                                FOREIGN KEY(id_product) REFERENCES products(id)\n",
    "                            )\n",
    "                            \"\"\")\n",
    "        self.conn.commit()\n",
    "\n",
    "    \n",
    "    def insert_into_product_list(self, name, url):\n",
    "        self.cursor.execute(\"\"\"\n",
    "                            INSERT INTO product_list (name, url)\n",
    "                            VALUES (?, ?)\n",
    "                            \"\"\", (name, url))\n",
    "        self.conn.commit()\n",
    "        return self.cursor.lastrowid  # Retorna o ID do registro inserido\n",
    "    \n",
    "    \n",
    "    def get_product_list(self):\n",
    "        self.cursor.execute(\"SELECT * FROM product_list\")\n",
    "        return self.cursor.fetchall()\n",
    "    \n",
    "    # Pucha os dados da tabela lists e junta com os dados da tabela 'products' + 'products_infos'\n",
    "    def get_products(self, id_list):\n",
    "        self.cursor.execute(\"\"\"\n",
    "                            SELECT products.id, products.title, products.photo_src, products.product_site_id, products.image, products_infos.site_option_id, products_infos.size, products_infos.price_web, products_infos.price_b2b\n",
    "                            FROM products\n",
    "                            INNER JOIN products_infos\n",
    "                            ON products.id = products_infos.id_product\n",
    "                            WHERE products.id_list = ?\n",
    "                            \"\"\", (id_list,))\n",
    "        return self.cursor.fetchall()\n",
    "\n",
    "    \n",
    "    # Método para inserir dados na tabela products verifica se o produto ja existe comparando o product_site_id caso exista faz o update\n",
    "# Método para inserir ou atualizar dados na tabela 'products'\n",
    "    def insert_or_update_product(self, title, photo_src, product_site_id, id_list, image_binary):\n",
    "        # Verificar se o produto já existe\n",
    "        self.cursor.execute(\"SELECT id FROM products WHERE product_site_id = ?\", (product_site_id,))\n",
    "        existing_product = self.cursor.fetchone()\n",
    "        \n",
    "        if existing_product:\n",
    "            product_id = existing_product[0]\n",
    "            # Se o produto existir, faça a atualização\n",
    "            self.cursor.execute(\"\"\"\n",
    "                UPDATE products\n",
    "                SET title = ?, photo_src = ?, id_list = ?, image = ?\n",
    "                WHERE product_site_id = ?\n",
    "            \"\"\", (title, photo_src, id_list, image_binary, product_site_id))\n",
    "        else:\n",
    "            # Se o produto não existir, faça a inserção\n",
    "            self.cursor.execute(\"\"\"\n",
    "                INSERT INTO products (title, photo_src, product_site_id, id_list, image)\n",
    "                VALUES (?, ?, ?, ?, ?)\n",
    "            \"\"\", (title, photo_src, product_site_id, id_list, image_binary))\n",
    "            product_id = self.cursor.lastrowid\n",
    "        \n",
    "        # Confirma a transação no banco de dados\n",
    "        self.conn.commit()\n",
    "        \n",
    "        # Retorna o ID do produto existente ou recém-inserido\n",
    "        return product_id\n",
    "\n",
    "\n",
    "    # Método para inserir dados na tabela products_infos verifica se as informações ja existe comparando o site_option_id caso exista faz o update\n",
    "    def insert_or_update_products_infos(self, site_option_id, size, price_web, price_b2b, id_product):\n",
    "        # Verificar se as informações do produto já existem\n",
    "        self.cursor.execute(\"SELECT id FROM products_infos WHERE site_option_id = ?\", (site_option_id,))\n",
    "        existing_info = self.cursor.fetchone()\n",
    "        \n",
    "        if existing_info:\n",
    "            info_id = existing_info[0]\n",
    "            # Se as informações existirem, faça a atualização\n",
    "            self.cursor.execute(\"\"\"\n",
    "                UPDATE products_infos\n",
    "                SET size = ?, price_web = ?, price_b2b = ?, id_product = ?\n",
    "                WHERE site_option_id = ?\n",
    "            \"\"\", (size, price_web, price_b2b, id_product, site_option_id))\n",
    "        else:\n",
    "            # Se as informações não existirem, faça a inserção\n",
    "            self.cursor.execute(\"\"\"\n",
    "                INSERT INTO products_infos (site_option_id, size, price_web, price_b2b, id_product)\n",
    "                VALUES (?, ?, ?, ?, ?)\n",
    "            \"\"\", (site_option_id, size, price_web, price_b2b, id_product))\n",
    "            info_id = self.cursor.lastrowid\n",
    "        \n",
    "        # Confirma a transação no banco de dados\n",
    "        self.conn.commit()\n",
    "        \n",
    "        # Retorna o ID do registro existente ou recém-inserido\n",
    "        return info_id\n",
    "\n"
   ]
  },
  {
   "cell_type": "code",
   "execution_count": 16,
   "metadata": {},
   "outputs": [],
   "source": [
    "\n",
    "import time\n",
    "import requests\n",
    "from io import BytesIO\n",
    "from PIL import Image as PILImage\n",
    "from selenium.webdriver.support.ui import Select\n",
    "\n",
    "from tqdm import tqdm  # Importa a biblioteca tqdm\n",
    "\n",
    "#VARIAVEIS\n",
    "LOGIN_URL = 'https://b2b.tradeinn.com'\n",
    "USER_EMAIL = 'vendas@oldfirm.com.br'\n",
    "USER_PASSWORD = 'Kohlrauschrs18!G'\n",
    "\n",
    "\n",
    "\n",
    "def login(bot):\n",
    "        \n",
    "    bot.get(LOGIN_URL)\n",
    "\n",
    "    bot.sendkeys('ID', 'email_login', USER_EMAIL)\n",
    "    bot.sendkeys('ID', 'pass_login', USER_PASSWORD)\n",
    "\n",
    "    bot.click('XPATH', '/html/body/div[3]/div/div/div[2]/div[1]/form/div[4]/button')\n",
    "\n",
    "def update_all_products(bot):\n",
    "    import time\n",
    "\n",
    "    bd = Sqclass()\n",
    "\n",
    "    listas = bd.get_product_list()\n",
    "\n",
    "    for list in listas:\n",
    "        \n",
    "        url = list[2]\n",
    "        LIST_ID = list[0]\n",
    "        \n",
    "        get_products_site(LIST_ID, url, bot)\n",
    "        \n",
    "    bot.click('XPATH', '/html/body/nav/div/div[4]/div[1]')\n",
    "    time.sleep(5)\n",
    "    bot.close()\n",
    "\n",
    "def download_image(url):\n",
    "    response = requests.get(url)\n",
    "    if response.status_code == 200:\n",
    "        return BytesIO(response.content)\n",
    "    else:\n",
    "        raise Exception(f\"Failed to download image from {url}\")\n",
    "\n",
    "def image_to_binary(image_stream):\n",
    "    with PILImage.open(image_stream) as img:\n",
    "        with BytesIO() as output:\n",
    "            img.save(output, format='PNG')\n",
    "            return output.getvalue()\n",
    "\n",
    "def get_products_site(LIST_ID, url):\n",
    "    \n",
    "    bot = Navegador()\n",
    "    \n",
    "    login(bot)\n",
    "    time.sleep(5)\n",
    "    \n",
    "    bd = Sqclass()\n",
    "    \n",
    "    try:\n",
    "        bot.get(url)\n",
    "        \n",
    "        elements = bot.get_elements('CLASS_NAME', 'product-listing-wrapper')\n",
    "\n",
    "        total_elements = len(elements)\n",
    "        \n",
    "        start_time = time.time()  # Início da medição de tempo\n",
    "\n",
    "        # Barra de progresso para elementos\n",
    "        for i, element in enumerate(tqdm(elements, desc=\"Processando produtos\", unit=\"produto\")):\n",
    "            \n",
    "            xpath = f\"/html/body/div[3]/div[2]/div[1]/div/main/ul/li[{i + 1}]\"\n",
    "            \n",
    "            bot.click('XPATH', xpath)\n",
    "            \n",
    "            title = bot.element_get_text('ID', 'name_product').text\n",
    "            photo_src = bot.element_get_text('XPATH', '/html/body/div[3]/div[1]/div/div[2]/div[1]/div[2]/div/div[1]/img').get_attribute('src')\n",
    "\n",
    "            # Baixar e converter a imagem para binário\n",
    "            try:\n",
    "                img_stream = download_image(photo_src)\n",
    "                img_binary = image_to_binary(img_stream)\n",
    "            except Exception as e:\n",
    "                print(f\"Erro ao baixar ou converter imagem: {e}\")\n",
    "                img_binary = None  # Use None se a imagem não puder ser baixada ou convertida\n",
    "\n",
    "            product_site_id = bot.element_get_text('XPATH', xpath).get_attribute('data-id_modelo')\n",
    "            \n",
    "            # Salvar no BD, incluindo a imagem binária\n",
    "            new_product = bd.insert_or_update_product(title, photo_src, product_site_id, LIST_ID, img_binary)\n",
    "            \n",
    "            # Salvar listas\n",
    "            drp_element = bot.get_elements('ID', 'tallas_productos')[0]\n",
    "            select = Select(drp_element)\n",
    "            num_options = len(select.options)\n",
    "\n",
    "            # Barra de progresso para tamanhos\n",
    "            for index in tqdm(range(num_options), desc=\"Processando tamanhos\", unit=\"tamanho\", leave=False):\n",
    "                \n",
    "                select.select_by_index(index)\n",
    "                \n",
    "                size = select.first_selected_option.text\n",
    "                option_site_id = select.first_selected_option.get_attribute('value')\n",
    "                price_web = bot.element_get_text('ID', 'precio_web').text\n",
    "                price_b2b = bot.element_get_text('ID', 'precio_b2b').text\n",
    "                \n",
    "                new_product_info = bd.insert_or_update_products_infos(option_site_id, size, price_web, price_b2b, new_product)\n",
    "\n",
    "            bot.click('ID', 'js-cerrar-detalle')\n",
    "            \n",
    "            # Atualiza a página a cada 8 produtos\n",
    "            if (i + 1) % 8 == 0:\n",
    "                bot.get(url)\n",
    "\n",
    "        end_time = time.time()  # Fim da medição de tempo\n",
    "        execution_time = end_time - start_time  # Cálculo do tempo de execução \n",
    "\n",
    "        print(f\"\\nTempo de execução: {execution_time:.2f} segundos\")\n",
    "        \n",
    "    except Exception as e:\n",
    "        print(e)\n",
    "        bot.click('XPATH', '/html/body/nav/div/div[4]/div[1]')\n",
    "        time.sleep(5)\n",
    "        bot.close()"
   ]
  },
  {
   "cell_type": "code",
   "execution_count": 20,
   "metadata": {},
   "outputs": [],
   "source": [
    "bot = Navegador()\n",
    "login(bot)"
   ]
  },
  {
   "cell_type": "code",
   "execution_count": 114,
   "metadata": {},
   "outputs": [
    {
     "data": {
      "text/plain": [
       "10"
      ]
     },
     "execution_count": 114,
     "metadata": {},
     "output_type": "execute_result"
    }
   ],
   "source": [
    "elements = bot.get_elements('CLASS_NAME', 'ais-InfiniteHits-item')\n",
    "len(elements)"
   ]
  },
  {
   "cell_type": "code",
   "execution_count": 117,
   "metadata": {},
   "outputs": [
    {
     "name": "stderr",
     "output_type": "stream",
     "text": [
      "Processando produtos:   0%|          | 0/10 [00:00<?, ?produto/s]"
     ]
    },
    {
     "name": "stdout",
     "output_type": "stream",
     "text": [
      "0\n"
     ]
    },
    {
     "name": "stderr",
     "output_type": "stream",
     "text": [
      "Processando produtos:  10%|█         | 1/10 [00:01<00:10,  1.17s/produto]"
     ]
    },
    {
     "name": "stdout",
     "output_type": "stream",
     "text": [
      "1\n"
     ]
    },
    {
     "name": "stderr",
     "output_type": "stream",
     "text": [
      "Processando produtos:  20%|██        | 2/10 [00:02<00:09,  1.19s/produto]"
     ]
    },
    {
     "name": "stdout",
     "output_type": "stream",
     "text": [
      "2\n"
     ]
    },
    {
     "name": "stderr",
     "output_type": "stream",
     "text": [
      "Processando produtos:  30%|███       | 3/10 [00:03<00:08,  1.19s/produto]"
     ]
    },
    {
     "name": "stdout",
     "output_type": "stream",
     "text": [
      "3\n"
     ]
    },
    {
     "name": "stderr",
     "output_type": "stream",
     "text": [
      "Processando produtos:  40%|████      | 4/10 [00:04<00:07,  1.19s/produto]"
     ]
    },
    {
     "name": "stdout",
     "output_type": "stream",
     "text": [
      "4\n"
     ]
    },
    {
     "name": "stderr",
     "output_type": "stream",
     "text": [
      "Processando produtos:  50%|█████     | 5/10 [00:05<00:05,  1.19s/produto]"
     ]
    },
    {
     "name": "stdout",
     "output_type": "stream",
     "text": [
      "5\n"
     ]
    },
    {
     "name": "stderr",
     "output_type": "stream",
     "text": [
      "Processando produtos:  60%|██████    | 6/10 [00:07<00:04,  1.22s/produto]"
     ]
    },
    {
     "name": "stdout",
     "output_type": "stream",
     "text": [
      "6\n"
     ]
    },
    {
     "name": "stderr",
     "output_type": "stream",
     "text": [
      "Processando produtos:  70%|███████   | 7/10 [00:08<00:03,  1.23s/produto]"
     ]
    },
    {
     "name": "stdout",
     "output_type": "stream",
     "text": [
      "7\n"
     ]
    },
    {
     "name": "stderr",
     "output_type": "stream",
     "text": [
      "Processando produtos:  80%|████████  | 8/10 [00:09<00:02,  1.24s/produto]"
     ]
    },
    {
     "name": "stdout",
     "output_type": "stream",
     "text": [
      "8\n"
     ]
    },
    {
     "name": "stderr",
     "output_type": "stream",
     "text": [
      "Processando produtos:  90%|█████████ | 9/10 [00:11<00:01,  1.27s/produto]"
     ]
    },
    {
     "name": "stdout",
     "output_type": "stream",
     "text": [
      "9\n"
     ]
    },
    {
     "name": "stderr",
     "output_type": "stream",
     "text": [
      "Processando produtos: 100%|██████████| 10/10 [00:12<00:00,  1.26s/produto]\n"
     ]
    }
   ],
   "source": [
    "bd = Sqclass()\n",
    "\n",
    "for i, element in enumerate(tqdm(elements, desc=\"Processando produtos\", unit=\"produto\")):\n",
    "    \n",
    "    xpath = f\"/html/body/div[3]/div[2]/div[1]/div/main/ol/li[{i + 1}]\"\n",
    "    print(i)\n",
    "    elements[i].click()\n",
    "    time.sleep(1)\n",
    "    bot.click('XPATH', '/html/body/div[3]/div[1]/div/div[1]/div')\n"
   ]
  },
  {
   "cell_type": "code",
   "execution_count": 101,
   "metadata": {},
   "outputs": [
    {
     "name": "stdout",
     "output_type": "stream",
     "text": [
      "Elemento não encontrado\n"
     ]
    }
   ],
   "source": [
    "product_site_id = bot.element_get_text('ID', 'id_modelo')\n"
   ]
  },
  {
   "cell_type": "code",
   "execution_count": 104,
   "metadata": {},
   "outputs": [],
   "source": [
    "script = \"\"\"\n",
    "var element = document.getElementById('id_modelo');\n",
    "if (element) {\n",
    "    element.removeAttribute('hidden');  // Remove o atributo 'hidden' se ele existir\n",
    "    element.setAttribute('type', 'text');  // Altera o tipo para 'text'\n",
    "}\n",
    "\"\"\""
   ]
  },
  {
   "cell_type": "code",
   "execution_count": 109,
   "metadata": {},
   "outputs": [
    {
     "data": {
      "text/plain": [
       "[<selenium.webdriver.remote.webelement.WebElement (session=\"925e5f312c65b0fbf2e8a0242f5bdf88\", element=\"f.72BCDD0318AF1EDB0F8D5A0F62D6F61F.d.5F8956F0F51F7DB7AAD72CC59EC07615.e.20188\")>]"
      ]
     },
     "execution_count": 109,
     "metadata": {},
     "output_type": "execute_result"
    }
   ],
   "source": [
    "drp_element = bot.get_elements('ID', 'tallas_productos')\n",
    "drp_element"
   ]
  }
 ],
 "metadata": {
  "kernelspec": {
   "display_name": "Python 3",
   "language": "python",
   "name": "python3"
  },
  "language_info": {
   "codemirror_mode": {
    "name": "ipython",
    "version": 3
   },
   "file_extension": ".py",
   "mimetype": "text/x-python",
   "name": "python",
   "nbconvert_exporter": "python",
   "pygments_lexer": "ipython3",
   "version": "3.12.3"
  }
 },
 "nbformat": 4,
 "nbformat_minor": 2
}
